{
 "cells": [
  {
   "cell_type": "code",
   "execution_count": 1,
   "metadata": {
    "ExecuteTime": {
     "end_time": "2020-01-31T23:37:19.622377Z",
     "start_time": "2020-01-31T23:37:18.693083Z"
    }
   },
   "outputs": [],
   "source": [
    "import pandas as pd\n",
    "import numpy as np\n",
    "import psycopg2 as pg"
   ]
  },
  {
   "cell_type": "code",
   "execution_count": 2,
   "metadata": {
    "ExecuteTime": {
     "end_time": "2020-01-31T23:37:19.859878Z",
     "start_time": "2020-01-31T23:37:19.846420Z"
    }
   },
   "outputs": [],
   "source": [
    "#load data as dataframe to chcek struct and column names\n",
    "cancer = pd.read_csv('/Users/jsong/Documents/cancer_classification/kag_risk_factors_cervical_cancer.csv')"
   ]
  },
  {
   "cell_type": "code",
   "execution_count": 3,
   "metadata": {
    "ExecuteTime": {
     "end_time": "2020-01-31T23:37:20.584288Z",
     "start_time": "2020-01-31T23:37:20.556513Z"
    }
   },
   "outputs": [
    {
     "data": {
      "text/html": [
       "<div>\n",
       "<style scoped>\n",
       "    .dataframe tbody tr th:only-of-type {\n",
       "        vertical-align: middle;\n",
       "    }\n",
       "\n",
       "    .dataframe tbody tr th {\n",
       "        vertical-align: top;\n",
       "    }\n",
       "\n",
       "    .dataframe thead th {\n",
       "        text-align: right;\n",
       "    }\n",
       "</style>\n",
       "<table border=\"1\" class=\"dataframe\">\n",
       "  <thead>\n",
       "    <tr style=\"text-align: right;\">\n",
       "      <th></th>\n",
       "      <th>Age</th>\n",
       "      <th>Number of sexual partners</th>\n",
       "      <th>First sexual intercourse</th>\n",
       "      <th>Num of pregnancies</th>\n",
       "      <th>Smokes</th>\n",
       "      <th>Smokes (years)</th>\n",
       "      <th>Smokes (packs/year)</th>\n",
       "      <th>Hormonal Contraceptives</th>\n",
       "      <th>Hormonal Contraceptives (years)</th>\n",
       "      <th>IUD</th>\n",
       "      <th>...</th>\n",
       "      <th>STDs: Time since first diagnosis</th>\n",
       "      <th>STDs: Time since last diagnosis</th>\n",
       "      <th>Dx:Cancer</th>\n",
       "      <th>Dx:CIN</th>\n",
       "      <th>Dx:HPV</th>\n",
       "      <th>Dx</th>\n",
       "      <th>Hinselmann</th>\n",
       "      <th>Schiller</th>\n",
       "      <th>Citology</th>\n",
       "      <th>Biopsy</th>\n",
       "    </tr>\n",
       "  </thead>\n",
       "  <tbody>\n",
       "    <tr>\n",
       "      <th>0</th>\n",
       "      <td>18</td>\n",
       "      <td>4.0</td>\n",
       "      <td>15.0</td>\n",
       "      <td>1.0</td>\n",
       "      <td>0.0</td>\n",
       "      <td>0.0</td>\n",
       "      <td>0.0</td>\n",
       "      <td>0.0</td>\n",
       "      <td>0.0</td>\n",
       "      <td>0.0</td>\n",
       "      <td>...</td>\n",
       "      <td>?</td>\n",
       "      <td>?</td>\n",
       "      <td>0</td>\n",
       "      <td>0</td>\n",
       "      <td>0</td>\n",
       "      <td>0</td>\n",
       "      <td>0</td>\n",
       "      <td>0</td>\n",
       "      <td>0</td>\n",
       "      <td>0</td>\n",
       "    </tr>\n",
       "    <tr>\n",
       "      <th>1</th>\n",
       "      <td>15</td>\n",
       "      <td>1.0</td>\n",
       "      <td>14.0</td>\n",
       "      <td>1.0</td>\n",
       "      <td>0.0</td>\n",
       "      <td>0.0</td>\n",
       "      <td>0.0</td>\n",
       "      <td>0.0</td>\n",
       "      <td>0.0</td>\n",
       "      <td>0.0</td>\n",
       "      <td>...</td>\n",
       "      <td>?</td>\n",
       "      <td>?</td>\n",
       "      <td>0</td>\n",
       "      <td>0</td>\n",
       "      <td>0</td>\n",
       "      <td>0</td>\n",
       "      <td>0</td>\n",
       "      <td>0</td>\n",
       "      <td>0</td>\n",
       "      <td>0</td>\n",
       "    </tr>\n",
       "    <tr>\n",
       "      <th>2</th>\n",
       "      <td>34</td>\n",
       "      <td>1.0</td>\n",
       "      <td>?</td>\n",
       "      <td>1.0</td>\n",
       "      <td>0.0</td>\n",
       "      <td>0.0</td>\n",
       "      <td>0.0</td>\n",
       "      <td>0.0</td>\n",
       "      <td>0.0</td>\n",
       "      <td>0.0</td>\n",
       "      <td>...</td>\n",
       "      <td>?</td>\n",
       "      <td>?</td>\n",
       "      <td>0</td>\n",
       "      <td>0</td>\n",
       "      <td>0</td>\n",
       "      <td>0</td>\n",
       "      <td>0</td>\n",
       "      <td>0</td>\n",
       "      <td>0</td>\n",
       "      <td>0</td>\n",
       "    </tr>\n",
       "    <tr>\n",
       "      <th>3</th>\n",
       "      <td>52</td>\n",
       "      <td>5.0</td>\n",
       "      <td>16.0</td>\n",
       "      <td>4.0</td>\n",
       "      <td>1.0</td>\n",
       "      <td>37.0</td>\n",
       "      <td>37.0</td>\n",
       "      <td>1.0</td>\n",
       "      <td>3.0</td>\n",
       "      <td>0.0</td>\n",
       "      <td>...</td>\n",
       "      <td>?</td>\n",
       "      <td>?</td>\n",
       "      <td>1</td>\n",
       "      <td>0</td>\n",
       "      <td>1</td>\n",
       "      <td>0</td>\n",
       "      <td>0</td>\n",
       "      <td>0</td>\n",
       "      <td>0</td>\n",
       "      <td>0</td>\n",
       "    </tr>\n",
       "    <tr>\n",
       "      <th>4</th>\n",
       "      <td>46</td>\n",
       "      <td>3.0</td>\n",
       "      <td>21.0</td>\n",
       "      <td>4.0</td>\n",
       "      <td>0.0</td>\n",
       "      <td>0.0</td>\n",
       "      <td>0.0</td>\n",
       "      <td>1.0</td>\n",
       "      <td>15.0</td>\n",
       "      <td>0.0</td>\n",
       "      <td>...</td>\n",
       "      <td>?</td>\n",
       "      <td>?</td>\n",
       "      <td>0</td>\n",
       "      <td>0</td>\n",
       "      <td>0</td>\n",
       "      <td>0</td>\n",
       "      <td>0</td>\n",
       "      <td>0</td>\n",
       "      <td>0</td>\n",
       "      <td>0</td>\n",
       "    </tr>\n",
       "  </tbody>\n",
       "</table>\n",
       "<p>5 rows × 36 columns</p>\n",
       "</div>"
      ],
      "text/plain": [
       "   Age Number of sexual partners First sexual intercourse Num of pregnancies  \\\n",
       "0   18                       4.0                     15.0                1.0   \n",
       "1   15                       1.0                     14.0                1.0   \n",
       "2   34                       1.0                        ?                1.0   \n",
       "3   52                       5.0                     16.0                4.0   \n",
       "4   46                       3.0                     21.0                4.0   \n",
       "\n",
       "  Smokes Smokes (years) Smokes (packs/year) Hormonal Contraceptives  \\\n",
       "0    0.0            0.0                 0.0                     0.0   \n",
       "1    0.0            0.0                 0.0                     0.0   \n",
       "2    0.0            0.0                 0.0                     0.0   \n",
       "3    1.0           37.0                37.0                     1.0   \n",
       "4    0.0            0.0                 0.0                     1.0   \n",
       "\n",
       "  Hormonal Contraceptives (years)  IUD  ... STDs: Time since first diagnosis  \\\n",
       "0                             0.0  0.0  ...                                ?   \n",
       "1                             0.0  0.0  ...                                ?   \n",
       "2                             0.0  0.0  ...                                ?   \n",
       "3                             3.0  0.0  ...                                ?   \n",
       "4                            15.0  0.0  ...                                ?   \n",
       "\n",
       "  STDs: Time since last diagnosis Dx:Cancer Dx:CIN Dx:HPV Dx Hinselmann  \\\n",
       "0                               ?         0      0      0  0          0   \n",
       "1                               ?         0      0      0  0          0   \n",
       "2                               ?         0      0      0  0          0   \n",
       "3                               ?         1      0      1  0          0   \n",
       "4                               ?         0      0      0  0          0   \n",
       "\n",
       "  Schiller Citology Biopsy  \n",
       "0        0        0      0  \n",
       "1        0        0      0  \n",
       "2        0        0      0  \n",
       "3        0        0      0  \n",
       "4        0        0      0  \n",
       "\n",
       "[5 rows x 36 columns]"
      ]
     },
     "execution_count": 3,
     "metadata": {},
     "output_type": "execute_result"
    }
   ],
   "source": [
    "cancer.head()"
   ]
  },
  {
   "cell_type": "markdown",
   "metadata": {},
   "source": [
    "Tried to setup sql database, but missing values with '?' cause error which is preventing copy data to sql database. So need to clean up the data first using pandas, and transfer to sql"
   ]
  },
  {
   "cell_type": "code",
   "execution_count": 4,
   "metadata": {
    "ExecuteTime": {
     "end_time": "2020-01-31T23:37:21.356325Z",
     "start_time": "2020-01-31T23:37:21.349810Z"
    }
   },
   "outputs": [],
   "source": [
    "#clear column names\n",
    "cancer.columns = cancer.columns.str.replace(' ', '_')\n",
    "cancer.columns = cancer.columns.str.replace(':', '_')\n",
    "cancer.columns = cancer.columns.str.replace('(', '')\n",
    "cancer.columns = cancer.columns.str.replace(')', '')"
   ]
  },
  {
   "cell_type": "code",
   "execution_count": 5,
   "metadata": {
    "ExecuteTime": {
     "end_time": "2020-01-31T23:37:22.073393Z",
     "start_time": "2020-01-31T23:37:22.061641Z"
    }
   },
   "outputs": [
    {
     "name": "stdout",
     "output_type": "stream",
     "text": [
      "<class 'pandas.core.frame.DataFrame'>\n",
      "RangeIndex: 858 entries, 0 to 857\n",
      "Data columns (total 36 columns):\n",
      "Age                                   858 non-null int64\n",
      "Number_of_sexual_partners             858 non-null object\n",
      "First_sexual_intercourse              858 non-null object\n",
      "Num_of_pregnancies                    858 non-null object\n",
      "Smokes                                858 non-null object\n",
      "Smokes_years                          858 non-null object\n",
      "Smokes_packs/year                     858 non-null object\n",
      "Hormonal_Contraceptives               858 non-null object\n",
      "Hormonal_Contraceptives_years         858 non-null object\n",
      "IUD                                   858 non-null object\n",
      "IUD_years                             858 non-null object\n",
      "STDs                                  858 non-null object\n",
      "STDs_number                           858 non-null object\n",
      "STDs_condylomatosis                   858 non-null object\n",
      "STDs_cervical_condylomatosis          858 non-null object\n",
      "STDs_vaginal_condylomatosis           858 non-null object\n",
      "STDs_vulvo-perineal_condylomatosis    858 non-null object\n",
      "STDs_syphilis                         858 non-null object\n",
      "STDs_pelvic_inflammatory_disease      858 non-null object\n",
      "STDs_genital_herpes                   858 non-null object\n",
      "STDs_molluscum_contagiosum            858 non-null object\n",
      "STDs_AIDS                             858 non-null object\n",
      "STDs_HIV                              858 non-null object\n",
      "STDs_Hepatitis_B                      858 non-null object\n",
      "STDs_HPV                              858 non-null object\n",
      "STDs__Number_of_diagnosis             858 non-null int64\n",
      "STDs__Time_since_first_diagnosis      858 non-null object\n",
      "STDs__Time_since_last_diagnosis       858 non-null object\n",
      "Dx_Cancer                             858 non-null int64\n",
      "Dx_CIN                                858 non-null int64\n",
      "Dx_HPV                                858 non-null int64\n",
      "Dx                                    858 non-null int64\n",
      "Hinselmann                            858 non-null int64\n",
      "Schiller                              858 non-null int64\n",
      "Citology                              858 non-null int64\n",
      "Biopsy                                858 non-null int64\n",
      "dtypes: int64(10), object(26)\n",
      "memory usage: 241.4+ KB\n"
     ]
    }
   ],
   "source": [
    "cancer.info()"
   ]
  },
  {
   "cell_type": "code",
   "execution_count": 7,
   "metadata": {
    "ExecuteTime": {
     "end_time": "2020-01-31T23:38:25.206490Z",
     "start_time": "2020-01-31T23:38:25.150476Z"
    }
   },
   "outputs": [],
   "source": [
    "#change '?' values to Nan\n",
    "cancer.replace(['?'], np.nan)\n",
    "\n",
    "#change values to numeric\n",
    "for col in  cancer.columns[1:]:\n",
    "    cancer[col] = pd.to_numeric(cancer[col], errors='coerce')"
   ]
  },
  {
   "cell_type": "code",
   "execution_count": 8,
   "metadata": {
    "ExecuteTime": {
     "end_time": "2020-01-31T23:38:33.647491Z",
     "start_time": "2020-01-31T23:38:33.636583Z"
    }
   },
   "outputs": [
    {
     "name": "stdout",
     "output_type": "stream",
     "text": [
      "<class 'pandas.core.frame.DataFrame'>\n",
      "RangeIndex: 858 entries, 0 to 857\n",
      "Data columns (total 36 columns):\n",
      "Age                                   858 non-null int64\n",
      "Number_of_sexual_partners             832 non-null float64\n",
      "First_sexual_intercourse              851 non-null float64\n",
      "Num_of_pregnancies                    802 non-null float64\n",
      "Smokes                                845 non-null float64\n",
      "Smokes_years                          845 non-null float64\n",
      "Smokes_packs/year                     845 non-null float64\n",
      "Hormonal_Contraceptives               750 non-null float64\n",
      "Hormonal_Contraceptives_years         750 non-null float64\n",
      "IUD                                   741 non-null float64\n",
      "IUD_years                             741 non-null float64\n",
      "STDs                                  753 non-null float64\n",
      "STDs_number                           753 non-null float64\n",
      "STDs_condylomatosis                   753 non-null float64\n",
      "STDs_cervical_condylomatosis          753 non-null float64\n",
      "STDs_vaginal_condylomatosis           753 non-null float64\n",
      "STDs_vulvo-perineal_condylomatosis    753 non-null float64\n",
      "STDs_syphilis                         753 non-null float64\n",
      "STDs_pelvic_inflammatory_disease      753 non-null float64\n",
      "STDs_genital_herpes                   753 non-null float64\n",
      "STDs_molluscum_contagiosum            753 non-null float64\n",
      "STDs_AIDS                             753 non-null float64\n",
      "STDs_HIV                              753 non-null float64\n",
      "STDs_Hepatitis_B                      753 non-null float64\n",
      "STDs_HPV                              753 non-null float64\n",
      "STDs__Number_of_diagnosis             858 non-null int64\n",
      "STDs__Time_since_first_diagnosis      71 non-null float64\n",
      "STDs__Time_since_last_diagnosis       71 non-null float64\n",
      "Dx_Cancer                             858 non-null int64\n",
      "Dx_CIN                                858 non-null int64\n",
      "Dx_HPV                                858 non-null int64\n",
      "Dx                                    858 non-null int64\n",
      "Hinselmann                            858 non-null int64\n",
      "Schiller                              858 non-null int64\n",
      "Citology                              858 non-null int64\n",
      "Biopsy                                858 non-null int64\n",
      "dtypes: float64(26), int64(10)\n",
      "memory usage: 241.4 KB\n"
     ]
    }
   ],
   "source": [
    "cancer.info()"
   ]
  },
  {
   "cell_type": "code",
   "execution_count": 9,
   "metadata": {
    "ExecuteTime": {
     "end_time": "2020-01-31T23:40:43.758410Z",
     "start_time": "2020-01-31T23:40:43.751786Z"
    }
   },
   "outputs": [],
   "source": [
    "#fill-out missing values\n",
    "#for below 3 columns, mean values of each columns are used to fill the missing values\n",
    "cancer['Number_of_sexual_partners'].fillna((cancer['Number_of_sexual_partners'].mean()), inplace=True)\n",
    "cancer['First_sexual_intercourse'].fillna((cancer['First_sexual_intercourse'].mean()), inplace=True)\n",
    "cancer['Num_of_pregnancies'].fillna((cancer['Num_of_pregnancies'].mean()), inplace=True)"
   ]
  },
  {
   "cell_type": "code",
   "execution_count": 10,
   "metadata": {
    "ExecuteTime": {
     "end_time": "2020-01-31T23:42:30.125340Z",
     "start_time": "2020-01-31T23:42:30.114561Z"
    }
   },
   "outputs": [],
   "source": [
    "#fill with 0 for missing values of other columns \n",
    "for col in  cancer.columns[4:]:\n",
    "    cancer[col].fillna(0, inplace=True)"
   ]
  },
  {
   "cell_type": "code",
   "execution_count": 11,
   "metadata": {
    "ExecuteTime": {
     "end_time": "2020-01-31T23:44:41.509327Z",
     "start_time": "2020-01-31T23:44:41.499539Z"
    }
   },
   "outputs": [
    {
     "name": "stdout",
     "output_type": "stream",
     "text": [
      "<class 'pandas.core.frame.DataFrame'>\n",
      "RangeIndex: 858 entries, 0 to 857\n",
      "Data columns (total 36 columns):\n",
      "Age                                   858 non-null int64\n",
      "Number_of_sexual_partners             858 non-null float64\n",
      "First_sexual_intercourse              858 non-null float64\n",
      "Num_of_pregnancies                    858 non-null float64\n",
      "Smokes                                858 non-null float64\n",
      "Smokes_years                          858 non-null float64\n",
      "Smokes_packs/year                     858 non-null float64\n",
      "Hormonal_Contraceptives               858 non-null float64\n",
      "Hormonal_Contraceptives_years         858 non-null float64\n",
      "IUD                                   858 non-null float64\n",
      "IUD_years                             858 non-null float64\n",
      "STDs                                  858 non-null float64\n",
      "STDs_number                           858 non-null float64\n",
      "STDs_condylomatosis                   858 non-null float64\n",
      "STDs_cervical_condylomatosis          858 non-null float64\n",
      "STDs_vaginal_condylomatosis           858 non-null float64\n",
      "STDs_vulvo-perineal_condylomatosis    858 non-null float64\n",
      "STDs_syphilis                         858 non-null float64\n",
      "STDs_pelvic_inflammatory_disease      858 non-null float64\n",
      "STDs_genital_herpes                   858 non-null float64\n",
      "STDs_molluscum_contagiosum            858 non-null float64\n",
      "STDs_AIDS                             858 non-null float64\n",
      "STDs_HIV                              858 non-null float64\n",
      "STDs_Hepatitis_B                      858 non-null float64\n",
      "STDs_HPV                              858 non-null float64\n",
      "STDs__Number_of_diagnosis             858 non-null int64\n",
      "STDs__Time_since_first_diagnosis      858 non-null float64\n",
      "STDs__Time_since_last_diagnosis       858 non-null float64\n",
      "Dx_Cancer                             858 non-null int64\n",
      "Dx_CIN                                858 non-null int64\n",
      "Dx_HPV                                858 non-null int64\n",
      "Dx                                    858 non-null int64\n",
      "Hinselmann                            858 non-null int64\n",
      "Schiller                              858 non-null int64\n",
      "Citology                              858 non-null int64\n",
      "Biopsy                                858 non-null int64\n",
      "dtypes: float64(26), int64(10)\n",
      "memory usage: 241.4 KB\n"
     ]
    }
   ],
   "source": [
    "cancer.info()"
   ]
  },
  {
   "cell_type": "code",
   "execution_count": 12,
   "metadata": {
    "ExecuteTime": {
     "end_time": "2020-01-31T23:48:03.556590Z",
     "start_time": "2020-01-31T23:48:03.118198Z"
    }
   },
   "outputs": [],
   "source": [
    "#save cleaned dataframe to csv file, so that copy them to sql database\n",
    "export_csv = cancer.to_csv(r'/Users/jsong/Documents/cancer_classification/cancer.csv', index = None, header=True)"
   ]
  },
  {
   "cell_type": "markdown",
   "metadata": {},
   "source": [
    "# transfer data to sql on AWS\n",
    "\n",
    "CREATE DATABASE cancer;\n",
    "\n",
    "\\connect cancer;\n",
    "\n",
    "CREATE TABLE cer_cancer(  \n",
    "age INT,  \n",
    "num_of_partner FLOAT,  \n",
    "first_intercourse FLOAT,  \n",
    "num_of_preg FLOAT,  \n",
    "smokes FLOAT,  \n",
    "smokes_years FLOAT,  \n",
    "smokes_packs FLOAT,  \n",
    "hormonal_contraceptives FLOAT,  \n",
    "hormonal_contraceptives_years FLOAT,  \n",
    "iud FLOAT,  \n",
    "iud_years FLOAT,  \n",
    "stds FLOAT,  \n",
    "stds_num FLOAT,  \n",
    "condylomatosis FLOAT,  \n",
    "cervical_condylomatosis FLOAT,  \n",
    "vaginal_condylomatosis FLOAT,  \n",
    "vulvo_perineal_condylomatosis FLOAT,  \n",
    "Syphilis FLOAT,  \n",
    "pelvic_inflammation FLOAT,  \n",
    "genital_herpes FLOAT,  \n",
    "molluscum_contagiosum FLOAT,  \n",
    "aids FLOAT,  \n",
    "hiv FLOAT,  \n",
    "hepatitis_b FLOAT,  \n",
    "hpv FLOAT,  \n",
    "num_of_stds FLOAT,  \n",
    "time_since_std FLOAT,  \n",
    "time_since_last_std FLOAT,  \n",
    "dx_cancer INT,  \n",
    "dx_cin INT,  \n",
    "dx_hpv INT,  \n",
    "dx INT,  \n",
    "hinselmann INT,  \n",
    "schiller INT,  \n",
    "cytology INT,  \n",
    "biopsy INT  \n",
    ");  \n",
    "  \n",
    "    \n",
    "\\copy cer_cancer FROM '/home/ubuntu/cancer_classification/cancer.csv' DELIMITER ',' CSV HEADER;\n"
   ]
  },
  {
   "cell_type": "code",
   "execution_count": 16,
   "metadata": {
    "ExecuteTime": {
     "end_time": "2020-01-31T23:58:50.777900Z",
     "start_time": "2020-01-31T23:58:50.701318Z"
    }
   },
   "outputs": [],
   "source": [
    "connection_args = {\n",
    "    'host': '18.144.83.179',  # You will need to put the PUBLIC IP address of your AWS instance here\n",
    "    'user': 'ubuntu',    # your username on AWS is 'ubuntu'\n",
    "    'dbname': 'cancer',    # DB that we are connecting to\n",
    "    'port': 5432             # port we opened on AWS\n",
    "}\n",
    "\n",
    "# We will talk about this magic Python trick!\n",
    "connection = pg.connect(**connection_args)"
   ]
  },
  {
   "cell_type": "code",
   "execution_count": null,
   "metadata": {},
   "outputs": [],
   "source": []
  }
 ],
 "metadata": {
  "kernelspec": {
   "display_name": "Python [conda env:metis] *",
   "language": "python",
   "name": "conda-env-metis-py"
  },
  "language_info": {
   "codemirror_mode": {
    "name": "ipython",
    "version": 3
   },
   "file_extension": ".py",
   "mimetype": "text/x-python",
   "name": "python",
   "nbconvert_exporter": "python",
   "pygments_lexer": "ipython3",
   "version": "3.7.4"
  }
 },
 "nbformat": 4,
 "nbformat_minor": 2
}
